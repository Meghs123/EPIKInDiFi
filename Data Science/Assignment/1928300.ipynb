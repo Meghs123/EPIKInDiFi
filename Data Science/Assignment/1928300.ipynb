{
 "cells": [
  {
   "cell_type": "markdown",
   "id": "62115269",
   "metadata": {},
   "source": [
    "## The dataset belongs to a leading life insurance company. The company wants to predict the bonus for its agents so that it may design appropriate engagement activity for their high performing agents and upskill programs for low performing agents.\n",
    "\n",
    "\n",
    "\n",
    "#### NAME: MEGHA SINGH\n",
    "#### ROLL NUMBER: 1928300\n",
    "#### BRANCH: CSSE"
   ]
  },
  {
   "cell_type": "markdown",
   "id": "8bdc42e1",
   "metadata": {},
   "source": [
    "## Importing libraries"
   ]
  },
  {
   "cell_type": "code",
   "execution_count": null,
   "id": "c9da1f30",
   "metadata": {
    "ExecuteTime": {
     "end_time": "2022-04-03T10:07:20.561716Z",
     "start_time": "2022-04-03T10:07:20.544757Z"
    }
   },
   "outputs": [],
   "source": [
    "import numpy as np\n",
    "import matplotlib\n",
    "import matplotlib.pyplot as plt\n",
    "import pandas as pd\n",
    "import seaborn as sns # for making plots with seaborn\n",
    "import sklearn.metrics as metrics\n",
    "import warnings\n",
    "warnings.filterwarnings(\"ignore\")\n",
    "%matplotlib inline"
   ]
  },
  {
   "cell_type": "markdown",
   "id": "f3d79cd8",
   "metadata": {},
   "source": [
    "## Loading the data set\n",
    "\n",
    "**We will  be loading the EDA cars excel file using pandas. For this we will be using read_excel file.**"
   ]
  },
  {
   "cell_type": "code",
   "execution_count": null,
   "id": "6fbdde9d",
   "metadata": {
    "ExecuteTime": {
     "end_time": "2022-04-03T10:07:37.040864Z",
     "start_time": "2022-04-03T10:07:33.538685Z"
    }
   },
   "outputs": [],
   "source": [
    "df=pd.read_excel('Sales_Data_EDA_2.xlsx')"
   ]
  },
  {
   "cell_type": "markdown",
   "id": "fc35b553",
   "metadata": {},
   "source": [
    "## Basic Data Exploration \n",
    "\n",
    "**In this step, we will perform the below operations to check what the data set comprises of. We will check the below things:**\n",
    "\n",
    "- **Head of the dataset**\n",
    "- **Shape of the dataset**\n",
    "- **Info of the dataset**\n",
    "- **Summary of the dataset**"
   ]
  },
  {
   "cell_type": "markdown",
   "id": "177ccaf7",
   "metadata": {},
   "source": [
    "### head function will tell you the top records in the data set. "
   ]
  },
  {
   "cell_type": "code",
   "execution_count": null,
   "id": "72ec4586",
   "metadata": {
    "ExecuteTime": {
     "end_time": "2022-04-03T10:07:45.682891Z",
     "start_time": "2022-04-03T10:07:45.647849Z"
    }
   },
   "outputs": [],
   "source": [
    "# Print first 5 rows of the dataset by default\n",
    "df.head()"
   ]
  },
  {
   "cell_type": "markdown",
   "id": "4a75ba2e",
   "metadata": {},
   "source": [
    "### Shape attribute tells us number of observations and variables we have in the data set. It is used to check the dimension of data."
   ]
  },
  {
   "cell_type": "code",
   "execution_count": null,
   "id": "196ad17f",
   "metadata": {
    "ExecuteTime": {
     "end_time": "2022-04-03T10:07:50.001241Z",
     "start_time": "2022-04-03T10:07:49.980719Z"
    }
   },
   "outputs": [],
   "source": [
    "print('The number of rows (observations) is',df.shape[0],'\\n''The number of columns (variables) is',df.shape[1])"
   ]
  },
  {
   "cell_type": "markdown",
   "id": "f4270e34",
   "metadata": {},
   "source": [
    "### info() is used to check the Information about the data and the datatypes of each respective attributes."
   ]
  },
  {
   "cell_type": "code",
   "execution_count": null,
   "id": "0e75883b",
   "metadata": {
    "ExecuteTime": {
     "end_time": "2022-04-03T10:07:54.746130Z",
     "start_time": "2022-04-03T10:07:54.708276Z"
    }
   },
   "outputs": [],
   "source": [
    "# Info: It gives number of columns, datatype used in the dataset, null counts, memory usage and number of rows starting from 0.\n",
    "df.info()"
   ]
  },
  {
   "cell_type": "markdown",
   "id": "c44c16a8",
   "metadata": {},
   "source": [
    "### The five-number summary involves the calculation of 5 summary statistical quantities: namely:\n",
    "\n",
    "* **Median:** The middle value in the sample, also called the 50th percentile or the 2nd quartile.\n",
    "* **1st Quartile:** The 25th percentile.\n",
    "* **3rd Quartile:** The 75th percentile.\n",
    "* **Minimum:** The smallest observation in the sample.\n",
    "* **Maximum:** The largest observation in the sample."
   ]
  },
  {
   "cell_type": "code",
   "execution_count": null,
   "id": "08d1165c",
   "metadata": {
    "ExecuteTime": {
     "end_time": "2022-04-03T10:08:11.295142Z",
     "start_time": "2022-04-03T10:08:11.203475Z"
    }
   },
   "outputs": [],
   "source": [
    "# Data summary : The five-number summary, or 5-number summary for short, is a non-parametric data summarization technique.\n",
    "df.describe()"
   ]
  },
  {
   "cell_type": "markdown",
   "id": "89da0224",
   "metadata": {},
   "source": [
    "### Central Tendency"
   ]
  },
  {
   "cell_type": "code",
   "execution_count": null,
   "id": "bdc43e09",
   "metadata": {
    "ExecuteTime": {
     "end_time": "2022-04-03T10:08:17.684721Z",
     "start_time": "2022-04-03T10:08:17.568325Z"
    }
   },
   "outputs": [],
   "source": [
    "pd.set_option('max_rows', None)\n",
    "pd.options.display.float_format = '{:.2f}'.format   \n",
    "df.describe(include='all').T"
   ]
  },
  {
   "cell_type": "markdown",
   "id": "cab0e28c",
   "metadata": {},
   "source": [
    "### Unique Value of Categorical Variables"
   ]
  },
  {
   "cell_type": "code",
   "execution_count": null,
   "id": "e1fb95c7",
   "metadata": {
    "ExecuteTime": {
     "end_time": "2022-04-03T10:08:27.237521Z",
     "start_time": "2022-04-03T10:08:27.175845Z"
    }
   },
   "outputs": [],
   "source": [
    "for column in df.columns:\n",
    "    if df[column].dtype == 'object':\n",
    "        print(column,': ',df[column].nunique())\n",
    "        print(df[column].value_counts().sort_values())\n",
    "        print('\\n')"
   ]
  },
  {
   "cell_type": "markdown",
   "id": "28331d10",
   "metadata": {},
   "source": [
    "### Variable transformation (if applicable)"
   ]
  },
  {
   "cell_type": "code",
   "execution_count": null,
   "id": "5ea89848",
   "metadata": {
    "ExecuteTime": {
     "end_time": "2022-04-03T10:08:32.754458Z",
     "start_time": "2022-04-03T10:08:32.739091Z"
    }
   },
   "outputs": [],
   "source": [
    "df['Occupation']=df['Occupation'].replace(to_replace='Laarge Business',value='Large Business')"
   ]
  },
  {
   "cell_type": "code",
   "execution_count": null,
   "id": "2131e676",
   "metadata": {
    "ExecuteTime": {
     "end_time": "2022-04-03T10:08:34.142604Z",
     "start_time": "2022-04-03T10:08:34.127158Z"
    }
   },
   "outputs": [],
   "source": [
    "df['Gender']=df['Gender'].replace(to_replace='Fe male',value='Female')"
   ]
  },
  {
   "cell_type": "code",
   "execution_count": null,
   "id": "6c20cb8c",
   "metadata": {
    "ExecuteTime": {
     "end_time": "2022-04-03T10:08:37.170428Z",
     "start_time": "2022-04-03T10:08:37.112899Z"
    }
   },
   "outputs": [],
   "source": [
    "for column in df.columns:\n",
    "    if df[column].dtype == 'object':\n",
    "        print(column,': ',df[column].nunique())\n",
    "        print(df[column].value_counts().sort_values())\n",
    "        print('\\n')\n",
    "        \n",
    "# Now, we can see in Occupation column \"Laarge Business\" is merged with \"Large Business\".\n",
    "# And in Gender column \"Fe male\" is merged with \"Female\"."
   ]
  },
  {
   "cell_type": "code",
   "execution_count": null,
   "id": "45ed0246",
   "metadata": {
    "ExecuteTime": {
     "end_time": "2022-04-03T10:08:40.770332Z",
     "start_time": "2022-04-03T10:08:40.733155Z"
    }
   },
   "outputs": [],
   "source": [
    "df.info()"
   ]
  },
  {
   "cell_type": "code",
   "execution_count": null,
   "id": "02d65e41",
   "metadata": {
    "ExecuteTime": {
     "end_time": "2022-04-03T10:08:45.636887Z",
     "start_time": "2022-04-03T10:08:45.511388Z"
    }
   },
   "outputs": [],
   "source": [
    "# Central tendency\n",
    "pd.set_option('max_rows', None)\n",
    "pd.options.display.float_format = '{:.2f}'.format   \n",
    "df.describe(include='all').T"
   ]
  },
  {
   "cell_type": "markdown",
   "id": "c194b604",
   "metadata": {},
   "source": [
    "### Unique value of quantitative variable"
   ]
  },
  {
   "cell_type": "code",
   "execution_count": null,
   "id": "4d1886c5",
   "metadata": {
    "ExecuteTime": {
     "end_time": "2022-04-03T10:08:59.018273Z",
     "start_time": "2022-04-03T10:08:58.992458Z"
    }
   },
   "outputs": [],
   "source": [
    "df['AgentBonus'].value_counts().unique()"
   ]
  },
  {
   "cell_type": "code",
   "execution_count": null,
   "id": "4bd316f2",
   "metadata": {
    "ExecuteTime": {
     "end_time": "2022-04-03T10:09:01.899678Z",
     "start_time": "2022-04-03T10:09:01.833852Z"
    }
   },
   "outputs": [],
   "source": [
    "df['MonthlyIncome'].value_counts()"
   ]
  },
  {
   "cell_type": "markdown",
   "id": "acfdad25",
   "metadata": {},
   "source": [
    "### Checking for imbalance data for Quantitave variables"
   ]
  },
  {
   "cell_type": "code",
   "execution_count": null,
   "id": "828960f4",
   "metadata": {
    "ExecuteTime": {
     "end_time": "2022-04-03T10:09:08.833482Z",
     "start_time": "2022-04-03T10:09:08.763129Z"
    }
   },
   "outputs": [],
   "source": [
    "df['AgentBonus'].value_counts()"
   ]
  },
  {
   "cell_type": "code",
   "execution_count": null,
   "id": "fb0d1e30",
   "metadata": {
    "ExecuteTime": {
     "end_time": "2022-04-03T10:09:10.860493Z",
     "start_time": "2022-04-03T10:09:10.833604Z"
    }
   },
   "outputs": [],
   "source": [
    "df['CustTenure'].value_counts()"
   ]
  },
  {
   "cell_type": "code",
   "execution_count": null,
   "id": "ae170db7",
   "metadata": {
    "ExecuteTime": {
     "end_time": "2022-04-03T10:09:20.493411Z",
     "start_time": "2022-04-03T10:09:20.362511Z"
    }
   },
   "outputs": [],
   "source": [
    "df['SumAssured'].value_counts()"
   ]
  },
  {
   "cell_type": "markdown",
   "id": "5725542a",
   "metadata": {},
   "source": [
    "## Outlier detection and treatment"
   ]
  },
  {
   "cell_type": "code",
   "execution_count": null,
   "id": "f0777f94",
   "metadata": {
    "ExecuteTime": {
     "end_time": "2022-04-03T10:09:42.711003Z",
     "start_time": "2022-04-03T10:09:36.998755Z"
    }
   },
   "outputs": [],
   "source": [
    "col_names = list(df.select_dtypes(exclude=['object']).columns)\n",
    "fig, ax = plt.subplots(len(col_names), figsize=(5,50))\n",
    "for i,col_val in enumerate(col_names):\n",
    "    sns.boxplot(df[col_val])\n",
    "    ax[i].set_title('{}'.format(col_val), fontsize=8)\n",
    "    plt.show()\n"
   ]
  },
  {
   "cell_type": "markdown",
   "id": "fbd3fd74",
   "metadata": {},
   "source": [
    "### Outlier Treatment"
   ]
  },
  {
   "cell_type": "code",
   "execution_count": null,
   "id": "9201694f",
   "metadata": {
    "ExecuteTime": {
     "end_time": "2022-04-03T10:10:06.114151Z",
     "start_time": "2022-04-03T10:10:06.104758Z"
    }
   },
   "outputs": [],
   "source": [
    "def remove_outlier(col):\n",
    "    sorted(col)\n",
    "    Q1,Q3=col.quantile([0.25,0.75])\n",
    "    IQR=Q3-Q1\n",
    "    lower_range= Q1-(1.5 * IQR)\n",
    "    upper_range= Q3+(1.5 * IQR)\n",
    "    return lower_range, upper_range   "
   ]
  },
  {
   "cell_type": "code",
   "execution_count": null,
   "id": "2994fdb8",
   "metadata": {
    "ExecuteTime": {
     "end_time": "2022-04-03T10:10:09.064996Z",
     "start_time": "2022-04-03T10:10:08.955255Z"
    }
   },
   "outputs": [],
   "source": [
    "for i,col_val in enumerate(col_names):\n",
    "    lwr,upr=remove_outlier(df[col_val])\n",
    "    df[col_val]=np.where(df[col_val]>upr,upr,df[col_val])\n",
    "    df[col_val]=np.where(df[col_val]<lwr,lwr,df[col_val])\n",
    "    print(\"Outlier fixed for \", col_val)\n"
   ]
  },
  {
   "cell_type": "code",
   "execution_count": null,
   "id": "73b97cdb",
   "metadata": {
    "ExecuteTime": {
     "end_time": "2022-04-03T10:10:20.400744Z",
     "start_time": "2022-04-03T10:10:16.124911Z"
    }
   },
   "outputs": [],
   "source": [
    "for i,col_val in enumerate(col_names):\n",
    "    sns.boxplot(df[col_val])\n",
    "    ax[i].set_title('{}'.format(col_val), fontsize=8)\n",
    "    plt.show()"
   ]
  },
  {
   "cell_type": "markdown",
   "id": "2defbd9e",
   "metadata": {},
   "source": [
    "## Uni Variate Analysis"
   ]
  },
  {
   "cell_type": "code",
   "execution_count": null,
   "id": "373a7857",
   "metadata": {
    "ExecuteTime": {
     "end_time": "2022-04-01T20:23:18.042076Z",
     "start_time": "2022-04-01T20:23:15.528877Z"
    }
   },
   "outputs": [],
   "source": [
    "for i,col_val in enumerate(col_names):\n",
    "    sns.distplot(df[col_val])\n",
    "    plt.show()"
   ]
  },
  {
   "cell_type": "code",
   "execution_count": null,
   "id": "e8a5164c",
   "metadata": {
    "ExecuteTime": {
     "end_time": "2022-04-01T20:25:11.719924Z",
     "start_time": "2022-04-01T20:23:24.085289Z"
    }
   },
   "outputs": [],
   "source": [
    "sns.set_style(\"dark\")\n",
    "sns.pairplot(df,hue=\"AgentBonus\",height=1.5,aspect=1,corner=True)"
   ]
  },
  {
   "cell_type": "code",
   "execution_count": null,
   "id": "e8230667",
   "metadata": {
    "ExecuteTime": {
     "end_time": "2022-04-02T21:17:58.873767Z",
     "start_time": "2022-04-02T21:16:18.399978Z"
    }
   },
   "outputs": [],
   "source": [
    "sns.set_style(\"dark\")\n",
    "sns.pairplot(df,hue=\"MonthlyIncome\",height=1.5,aspect=1,corner=True)"
   ]
  },
  {
   "cell_type": "markdown",
   "id": "d941c72d",
   "metadata": {},
   "source": [
    "## BI Variate Analysis"
   ]
  },
  {
   "cell_type": "markdown",
   "id": "1837ff99",
   "metadata": {},
   "source": [
    "### Bonus for Agents : Bonus amount given to each agents in last month"
   ]
  },
  {
   "cell_type": "code",
   "execution_count": null,
   "id": "c2121bda",
   "metadata": {
    "ExecuteTime": {
     "end_time": "2022-03-30T18:07:19.129212Z",
     "start_time": "2022-03-30T17:19:00.430840Z"
    }
   },
   "outputs": [],
   "source": [
    "#col_names = list(df.select_dtypes(exclude=['object']).columns)\n",
    "#fig, ax = plt.subplots(len(col_names), figsize=(5,65))\n",
    "for i,col_val in enumerate(col_names):\n",
    "    #print (df[col_val].dtype)\n",
    "    sns.boxplot(y=df[col_val],x=df.AgentBonus)\n",
    "    #ax[i].set_title('{}'.format(col_val), fontsize=8)\n",
    "    plt.show()"
   ]
  },
  {
   "cell_type": "markdown",
   "id": "10b2f70d",
   "metadata": {},
   "source": [
    "### Customer care score : Customer satisfaction score given by customer in previous service call"
   ]
  },
  {
   "cell_type": "code",
   "execution_count": null,
   "id": "0d2fe027",
   "metadata": {
    "ExecuteTime": {
     "end_time": "2022-03-30T18:31:29.535389Z",
     "start_time": "2022-03-30T18:31:27.649067Z"
    }
   },
   "outputs": [],
   "source": [
    "#fig, ax = plt.subplots(len(col_names), figsize=(5,65))\n",
    "for i,col_val in enumerate(col_names):\n",
    "    #print (df[col_val].dtype)\n",
    "    sns.boxplot(y=df[col_val],x=df.CustCareScore)\n",
    "    #ax[i].set_title('{}'.format(col_val), fontsize=8)\n",
    "    plt.show()"
   ]
  },
  {
   "cell_type": "markdown",
   "id": "2bb71f2b",
   "metadata": {},
   "source": [
    "### Complaint : Indicator of complaint registered in last one month by customer"
   ]
  },
  {
   "cell_type": "code",
   "execution_count": null,
   "id": "ec723066",
   "metadata": {
    "ExecuteTime": {
     "end_time": "2022-03-30T18:30:09.391825Z",
     "start_time": "2022-03-30T18:30:08.012631Z"
    }
   },
   "outputs": [],
   "source": [
    "#fig, ax = plt.subplots(len(col_names), figsize=(5,65))\n",
    "for i,col_val in enumerate(col_names):\n",
    "    #print (df[col_val].dtype)\n",
    "    sns.boxplot(y=df[col_val],x=df.Complaint)\n",
    "    plt.show()\n",
    "    #ax[i].set_title('{}'.format(col_val), fontsize=8)"
   ]
  },
  {
   "cell_type": "markdown",
   "id": "cb5a428b",
   "metadata": {
    "ExecuteTime": {
     "end_time": "2022-04-03T10:20:46.962168Z",
     "start_time": "2022-04-03T10:20:46.962168Z"
    }
   },
   "source": [
    "### SumAssured : Max of sum assured in all existing policies of customer"
   ]
  },
  {
   "cell_type": "code",
   "execution_count": null,
   "id": "7fd5560f",
   "metadata": {
    "ExecuteTime": {
     "end_time": "2022-04-03T11:25:51.586915Z",
     "start_time": "2022-04-03T10:31:01.826770Z"
    }
   },
   "outputs": [],
   "source": [
    "#fig, ax = plt.subplots(len(col_names), figsize=(5,65))\n",
    "for i,col_val in enumerate(col_names):\n",
    "    #print (df[col_val].dtype)\n",
    "    sns.boxplot(y=df[col_val],x=df.SumAssured)\n",
    "    plt.show()\n",
    "    #ax[i].set_title('{}'.format(col_val), fontsize=8)"
   ]
  },
  {
   "cell_type": "markdown",
   "id": "0066eea1",
   "metadata": {},
   "source": [
    "### MonthlyIncome: Gross monthly income of customer"
   ]
  },
  {
   "cell_type": "code",
   "execution_count": null,
   "id": "9ef2e37a",
   "metadata": {
    "ExecuteTime": {
     "end_time": "2022-04-03T11:55:55.794328Z",
     "start_time": "2022-04-03T11:28:24.103076Z"
    }
   },
   "outputs": [],
   "source": [
    "#fig, ax = plt.subplots(len(col_names), figsize=(5,65))\n",
    "for i,col_val in enumerate(col_names):\n",
    "    #print (df[col_val].dtype)\n",
    "    sns.boxplot(y=df[col_val],x=df.MonthlyIncome)\n",
    "    plt.show()\n",
    "    #ax[i].set_title('{}'.format(col_val), fontsize=8)"
   ]
  },
  {
   "cell_type": "markdown",
   "id": "2a9dbbb6",
   "metadata": {},
   "source": [
    "### NumberOfPolicy : Total number of existing policy of a customer"
   ]
  },
  {
   "cell_type": "code",
   "execution_count": null,
   "id": "a09970f9",
   "metadata": {
    "ExecuteTime": {
     "end_time": "2022-04-03T12:06:21.596076Z",
     "start_time": "2022-04-03T12:06:19.678255Z"
    }
   },
   "outputs": [],
   "source": [
    "#fig, ax = plt.subplots(len(col_names), figsize=(5,65))\n",
    "for i,col_val in enumerate(col_names):\n",
    "    #print (df[col_val].dtype)\n",
    "    sns.boxplot(y=df[col_val],x=df.NumberOfPolicy)\n",
    "    plt.show()\n",
    "    #ax[i].set_title('{}'.format(col_val), fontsize=8)"
   ]
  },
  {
   "cell_type": "markdown",
   "id": "29c785a8",
   "metadata": {},
   "source": [
    "###  Gender : Gender of customer"
   ]
  },
  {
   "cell_type": "code",
   "execution_count": null,
   "id": "37631d42",
   "metadata": {
    "ExecuteTime": {
     "end_time": "2022-04-03T12:15:38.600704Z",
     "start_time": "2022-04-03T12:15:37.329491Z"
    }
   },
   "outputs": [],
   "source": [
    "#fig, ax = plt.subplots(len(col_names), figsize=(5,65))\n",
    "for i,col_val in enumerate(col_names):\n",
    "    #print (df[col_val].dtype)\n",
    "    sns.boxplot(y=df[col_val],x=df.Gender)\n",
    "    plt.show()\n",
    "    #ax[i].set_title('{}'.format(col_val), fontsize=8)"
   ]
  },
  {
   "cell_type": "markdown",
   "id": "13f35c87",
   "metadata": {},
   "source": [
    "### Occupation : Occupation of customer"
   ]
  },
  {
   "cell_type": "code",
   "execution_count": null,
   "id": "052d97ca",
   "metadata": {
    "ExecuteTime": {
     "end_time": "2022-04-03T12:26:17.774647Z",
     "start_time": "2022-04-03T12:26:16.127431Z"
    }
   },
   "outputs": [],
   "source": [
    "#fig, ax = plt.subplots(len(col_names), figsize=(5,65))\n",
    "for i,col_val in enumerate(col_names):\n",
    "    #print (df[col_val].dtype)\n",
    "    sns.boxplot(y=df[col_val],x=df.Occupation)\n",
    "    plt.show()\n",
    "    #ax[i].set_title('{}'.format(col_val), fontsize=8)"
   ]
  },
  {
   "cell_type": "markdown",
   "id": "5ebf6709",
   "metadata": {},
   "source": [
    "### Scatter Plot for Bi Variate Analysis"
   ]
  },
  {
   "cell_type": "code",
   "execution_count": null,
   "id": "cdfd9f7c",
   "metadata": {
    "ExecuteTime": {
     "end_time": "2022-03-30T18:45:12.736168Z",
     "start_time": "2022-03-30T18:44:10.700432Z"
    }
   },
   "outputs": [],
   "source": [
    "#fig, ax = plt.subplots(len(col_names), figsize=(5,70))\n",
    "for i,col_val in enumerate(col_names):\n",
    "    for j,rev_col in reversed(list(enumerate(col_names))):\n",
    "        sns.scatterplot(y=df[col_val],x=df[rev_col],hue=df.AgentBonus)\n",
    "        #ax[i].set_title('{}'.format(col_val,rev_col), fontsize=8)\n",
    "        plt.show()"
   ]
  },
  {
   "cell_type": "markdown",
   "id": "0341e5f0",
   "metadata": {},
   "source": [
    "## Removal of unwanted variables"
   ]
  },
  {
   "cell_type": "code",
   "execution_count": null,
   "id": "03a33fc5",
   "metadata": {
    "ExecuteTime": {
     "end_time": "2022-04-03T13:26:28.495321Z",
     "start_time": "2022-04-03T13:26:28.466038Z"
    }
   },
   "outputs": [],
   "source": [
    "df.drop(['Complaint'],axis=1,inplace=True)"
   ]
  },
  {
   "cell_type": "code",
   "execution_count": null,
   "id": "80d317d5",
   "metadata": {
    "ExecuteTime": {
     "end_time": "2022-04-03T15:03:23.228011Z",
     "start_time": "2022-04-03T15:03:23.211055Z"
    }
   },
   "outputs": [],
   "source": [
    "df.drop(['CustCareScore'],axis=1,inplace=True)"
   ]
  },
  {
   "cell_type": "code",
   "execution_count": null,
   "id": "9d514f85",
   "metadata": {
    "ExecuteTime": {
     "end_time": "2022-04-03T13:26:33.962174Z",
     "start_time": "2022-04-03T13:26:32.797561Z"
    }
   },
   "outputs": [],
   "source": [
    "df"
   ]
  },
  {
   "cell_type": "markdown",
   "id": "03bf8698",
   "metadata": {},
   "source": [
    "## Duplicate Check"
   ]
  },
  {
   "cell_type": "code",
   "execution_count": null,
   "id": "a50ae4d2",
   "metadata": {
    "ExecuteTime": {
     "end_time": "2022-04-03T09:34:49.494027Z",
     "start_time": "2022-04-03T09:34:49.433630Z"
    }
   },
   "outputs": [],
   "source": [
    "dups = df.duplicated()\n",
    "print('Number of duplicate rows = %d' % (dups.sum()))\n",
    "\n",
    "df[dups]"
   ]
  },
  {
   "cell_type": "markdown",
   "id": "8ff63cea",
   "metadata": {},
   "source": [
    "## Missing value check"
   ]
  },
  {
   "cell_type": "code",
   "execution_count": null,
   "id": "7ae10d24",
   "metadata": {
    "ExecuteTime": {
     "end_time": "2022-03-30T19:03:54.923158Z",
     "start_time": "2022-03-30T19:03:54.904173Z"
    }
   },
   "outputs": [],
   "source": [
    "print ('There are', df.isnull().sum().sum(),'missing values in the dataset')"
   ]
  },
  {
   "cell_type": "code",
   "execution_count": null,
   "id": "188ef87a",
   "metadata": {
    "ExecuteTime": {
     "end_time": "2022-03-30T19:04:05.906758Z",
     "start_time": "2022-03-30T19:04:05.882787Z"
    }
   },
   "outputs": [],
   "source": [
    "pd.set_option('max_rows', None)\n",
    "df.isnull().sum().sort_values(ascending=False)"
   ]
  },
  {
   "cell_type": "code",
   "execution_count": null,
   "id": "cfda7ac5",
   "metadata": {
    "ExecuteTime": {
     "end_time": "2022-03-30T19:04:41.465137Z",
     "start_time": "2022-03-30T19:04:41.442344Z"
    }
   },
   "outputs": [],
   "source": [
    "null_rows=0\n",
    "for i in (df.isnull().sum(axis=1)):\n",
    "    if i>0 :\n",
    "        null_rows=null_rows+1\n",
    "print (\" Total Missing Rows \",null_rows)"
   ]
  },
  {
   "cell_type": "markdown",
   "id": "53520924",
   "metadata": {},
   "source": [
    "## Missing value treatment\n",
    "###### Impute the missing values with median or median values for Numeric columns while mode values for categorical columns"
   ]
  },
  {
   "cell_type": "code",
   "execution_count": null,
   "id": "cded806c",
   "metadata": {
    "ExecuteTime": {
     "end_time": "2022-03-30T19:06:21.363429Z",
     "start_time": "2022-03-30T19:06:20.642124Z"
    }
   },
   "outputs": [],
   "source": [
    "from sklearn.impute import SimpleImputer\n",
    "imputer = SimpleImputer(strategy='most_frequent',missing_values=np.nan)"
   ]
  },
  {
   "cell_type": "code",
   "execution_count": null,
   "id": "271a0b7d",
   "metadata": {
    "ExecuteTime": {
     "end_time": "2022-03-30T19:06:37.553746Z",
     "start_time": "2022-03-30T19:06:37.531806Z"
    }
   },
   "outputs": [],
   "source": [
    "for i,col_val in enumerate(list(df.columns)):\n",
    "    if df[col_val].isnull().sum()>0 :\n",
    "        df[col_val]=imputer.fit_transform(df[col_val].values.reshape(-1,1))[:,0]"
   ]
  },
  {
   "cell_type": "code",
   "execution_count": null,
   "id": "0a81dd96",
   "metadata": {
    "ExecuteTime": {
     "end_time": "2022-03-30T19:06:49.569107Z",
     "start_time": "2022-03-30T19:06:49.546497Z"
    }
   },
   "outputs": [],
   "source": [
    "df.isnull().sum()"
   ]
  },
  {
   "cell_type": "code",
   "execution_count": null,
   "id": "fbf379f3",
   "metadata": {
    "ExecuteTime": {
     "end_time": "2022-03-30T19:08:57.072741Z",
     "start_time": "2022-03-30T19:08:57.040553Z"
    }
   },
   "outputs": [],
   "source": [
    "df.info()"
   ]
  },
  {
   "cell_type": "markdown",
   "id": "a34d0384",
   "metadata": {},
   "source": [
    "## Encoding"
   ]
  },
  {
   "cell_type": "code",
   "execution_count": null,
   "id": "ae057b67",
   "metadata": {
    "ExecuteTime": {
     "end_time": "2022-04-03T06:51:49.947122Z",
     "start_time": "2022-04-03T06:51:49.927686Z"
    }
   },
   "outputs": [],
   "source": [
    "df['Gender'] = df['Gender'].replace(to_replace='Female',value=1)\n",
    "df['Gender'] = df['Gender'].replace(to_replace='Male',value=0)"
   ]
  },
  {
   "cell_type": "code",
   "execution_count": null,
   "id": "1104e4b1",
   "metadata": {
    "ExecuteTime": {
     "end_time": "2022-04-03T06:51:55.249750Z",
     "start_time": "2022-04-03T06:51:51.597837Z"
    }
   },
   "outputs": [],
   "source": [
    "df"
   ]
  },
  {
   "cell_type": "markdown",
   "id": "31156cbf",
   "metadata": {},
   "source": [
    "## Correlation"
   ]
  },
  {
   "cell_type": "code",
   "execution_count": null,
   "id": "9af5c37f",
   "metadata": {
    "ExecuteTime": {
     "end_time": "2022-04-01T21:24:10.087779Z",
     "start_time": "2022-04-01T21:24:10.063024Z"
    }
   },
   "outputs": [],
   "source": [
    "df.corr()"
   ]
  },
  {
   "cell_type": "markdown",
   "id": "0ce04d2a",
   "metadata": {},
   "source": [
    "## Correlation Heatmap"
   ]
  },
  {
   "cell_type": "code",
   "execution_count": null,
   "id": "2ec0fd05",
   "metadata": {
    "ExecuteTime": {
     "end_time": "2022-03-30T19:13:01.776962Z",
     "start_time": "2022-03-30T19:13:01.037321Z"
    }
   },
   "outputs": [],
   "source": [
    "plt.figure(figsize=(15,10))\n",
    "sns.heatmap(df.corr(), annot=True, fmt=\".1f\",square=False)"
   ]
  },
  {
   "cell_type": "code",
   "execution_count": null,
   "id": "51772c59",
   "metadata": {},
   "outputs": [],
   "source": []
  },
  {
   "cell_type": "code",
   "execution_count": null,
   "id": "480a3847",
   "metadata": {},
   "outputs": [],
   "source": []
  }
 ],
 "metadata": {
  "kernelspec": {
   "display_name": "Python 3 (ipykernel)",
   "language": "python",
   "name": "python3"
  },
  "language_info": {
   "codemirror_mode": {
    "name": "ipython",
    "version": 3
   },
   "file_extension": ".py",
   "mimetype": "text/x-python",
   "name": "python",
   "nbconvert_exporter": "python",
   "pygments_lexer": "ipython3",
   "version": "3.9.7"
  },
  "toc": {
   "base_numbering": 1,
   "nav_menu": {},
   "number_sections": true,
   "sideBar": true,
   "skip_h1_title": false,
   "title_cell": "Table of Contents",
   "title_sidebar": "Contents",
   "toc_cell": false,
   "toc_position": {},
   "toc_section_display": true,
   "toc_window_display": true
  }
 },
 "nbformat": 4,
 "nbformat_minor": 5
}
