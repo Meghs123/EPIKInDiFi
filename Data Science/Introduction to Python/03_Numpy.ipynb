{
 "cells": [
  {
   "cell_type": "markdown",
   "metadata": {},
   "source": [
    "## NumPy Intro\n",
    "\n",
    "- numpy is python's package for doing math that is more advanced than +-*/\n",
    "\n",
    "- This includes special functions like cosine, exponential, sqrt, ...\n",
    "\n",
    "- On top of this we can use numpy to generate samples from many types of random variables\n",
    "\n",
    "- numpy also has a powerful data type to define vectors, matrices, and tensors\n",
    "\n",
    "- With these data types numpy also allows us to do linear algebra - matrix multiplication and matrix-vector solutions"
   ]
  },
  {
   "cell_type": "markdown",
   "metadata": {},
   "source": [
    "## First step of using numpy"
   ]
  },
  {
   "cell_type": "code",
   "execution_count": 1,
   "metadata": {
    "ExecuteTime": {
     "end_time": "2022-02-21T09:12:47.244566Z",
     "start_time": "2022-02-21T09:12:46.485167Z"
    }
   },
   "outputs": [],
   "source": [
    "# the first step of using numpy is to tell python to use it\n",
    "import numpy as np"
   ]
  },
  {
   "cell_type": "code",
   "execution_count": 2,
   "metadata": {
    "ExecuteTime": {
     "end_time": "2022-02-21T09:12:47.248075Z",
     "start_time": "2022-02-21T09:12:47.245898Z"
    }
   },
   "outputs": [
    {
     "name": "stdout",
     "output_type": "stream",
     "text": [
      "-1.0\n",
      "1.1\n",
      "5.2\n"
     ]
    }
   ],
   "source": [
    "print(np.cos(np.pi))\n",
    "print(np.sqrt(1.21))\n",
    "print(np.log(np.exp(5.2)))"
   ]
  },
  {
   "cell_type": "markdown",
   "metadata": {},
   "source": [
    "## Array and Matrix"
   ]
  },
  {
   "cell_type": "markdown",
   "metadata": {},
   "source": [
    "### Array\n",
    "\n",
    "- An array is a special variable that can hold more than one value at a time. Both the list and array look similar but one major difference is that an array is optimized for arithmetical computations."
   ]
  },
  {
   "cell_type": "code",
   "execution_count": 3,
   "metadata": {
    "ExecuteTime": {
     "end_time": "2022-02-21T09:12:47.254731Z",
     "start_time": "2022-02-21T09:12:47.249213Z"
    }
   },
   "outputs": [
    {
     "data": {
      "text/plain": [
       "array([1, 2, 3])"
      ]
     },
     "execution_count": 3,
     "metadata": {},
     "output_type": "execute_result"
    }
   ],
   "source": [
    "Arr = np.array([1,2,3])\n",
    "Arr"
   ]
  },
  {
   "cell_type": "markdown",
   "metadata": {},
   "source": [
    "### Matrix\n",
    "- Matrix is a 2-D (2-Dimentional array). It has both rows and columns. The horizontal arrangement of data are rows and the vertical arrangement of data are columns."
   ]
  },
  {
   "cell_type": "code",
   "execution_count": 4,
   "metadata": {
    "ExecuteTime": {
     "end_time": "2022-02-21T09:12:47.258799Z",
     "start_time": "2022-02-21T09:12:47.255647Z"
    }
   },
   "outputs": [
    {
     "data": {
      "text/plain": [
       "array([[1, 2, 3, 1],\n",
       "       [4, 5, 6, 4],\n",
       "       [7, 8, 9, 7]])"
      ]
     },
     "execution_count": 4,
     "metadata": {},
     "output_type": "execute_result"
    }
   ],
   "source": [
    "Mat=np.array([[1,2,3,1],[4,5,6,4],[7,8,9,7]]) # This code will create a atrix of 3 rows and 4 columns\n",
    "Mat"
   ]
  },
  {
   "cell_type": "markdown",
   "metadata": {},
   "source": [
    "## Creating numpy arrays"
   ]
  },
  {
   "cell_type": "markdown",
   "metadata": {},
   "source": [
    "### By converting lists"
   ]
  },
  {
   "cell_type": "code",
   "execution_count": 5,
   "metadata": {
    "ExecuteTime": {
     "end_time": "2022-02-21T09:12:47.262272Z",
     "start_time": "2022-02-21T09:12:47.259797Z"
    }
   },
   "outputs": [
    {
     "name": "stdout",
     "output_type": "stream",
     "text": [
      "[1 2 3]\n"
     ]
    }
   ],
   "source": [
    "# we can create numpy arrays by converting lists\n",
    "# this is a vector\n",
    "vec = np.array([1,2,3])\n",
    "print(vec)"
   ]
  },
  {
   "cell_type": "markdown",
   "metadata": {},
   "source": [
    "### By converting lists of lists"
   ]
  },
  {
   "cell_type": "code",
   "execution_count": 6,
   "metadata": {
    "ExecuteTime": {
     "end_time": "2022-02-21T09:12:47.266482Z",
     "start_time": "2022-02-21T09:12:47.264047Z"
    }
   },
   "outputs": [
    {
     "name": "stdout",
     "output_type": "stream",
     "text": [
      "\n",
      "[[1 2 1]\n",
      " [4 5 9]\n",
      " [1 8 9]]\n",
      "\n",
      "[[1 4 1]\n",
      " [2 5 8]\n",
      " [1 9 9]]\n"
     ]
    }
   ],
   "source": [
    "# we can create matrices by converting lists of lists\n",
    "mat = np.array([[1,2,1],[4,5,9],[1,8,9]])\n",
    "print('')\n",
    "print(mat)\n",
    "print('')\n",
    "print(mat.T)"
   ]
  },
  {
   "cell_type": "markdown",
   "metadata": {},
   "source": [
    "### By using arange"
   ]
  },
  {
   "cell_type": "code",
   "execution_count": 7,
   "metadata": {
    "ExecuteTime": {
     "end_time": "2022-02-21T09:12:47.271054Z",
     "start_time": "2022-02-21T09:12:47.268772Z"
    }
   },
   "outputs": [
    {
     "name": "stdout",
     "output_type": "stream",
     "text": [
      "[ 0  1  2  3  4  5  6  7  8  9 10 11 12 13 14]\n",
      "\n",
      "[ 3  9 15]\n"
     ]
    }
   ],
   "source": [
    "# there are lots of other ways to create numpy arrays\n",
    "vec2 = np.arange(0,15)\n",
    "print(vec2)\n",
    "print('')\n",
    "vec3 = np.arange(3,21,6)\n",
    "print(vec3)\n"
   ]
  },
  {
   "cell_type": "markdown",
   "metadata": {},
   "source": [
    "### By using linspace"
   ]
  },
  {
   "cell_type": "code",
   "execution_count": 8,
   "metadata": {
    "ExecuteTime": {
     "end_time": "2022-02-21T09:12:47.274772Z",
     "start_time": "2022-02-21T09:12:47.272665Z"
    }
   },
   "outputs": [
    {
     "name": "stdout",
     "output_type": "stream",
     "text": [
      "[0.         0.55555556 1.11111111 1.66666667 2.22222222 2.77777778\n",
      " 3.33333333 3.88888889 4.44444444 5.        ]\n"
     ]
    }
   ],
   "source": [
    "vec4 = np.linspace(0,5,10)\n",
    "print(vec4)"
   ]
  },
  {
   "cell_type": "markdown",
   "metadata": {},
   "source": [
    "### By using reshape"
   ]
  },
  {
   "cell_type": "code",
   "execution_count": 9,
   "metadata": {
    "ExecuteTime": {
     "end_time": "2022-02-21T09:12:47.277931Z",
     "start_time": "2022-02-21T09:12:47.275547Z"
    }
   },
   "outputs": [
    {
     "name": "stdout",
     "output_type": "stream",
     "text": [
      "[[0.         0.55555556]\n",
      " [1.11111111 1.66666667]\n",
      " [2.22222222 2.77777778]\n",
      " [3.33333333 3.88888889]\n",
      " [4.44444444 5.        ]]\n"
     ]
    }
   ],
   "source": [
    "vec4_reshaped = vec4.reshape(5,2)\n",
    "print(vec4_reshaped)"
   ]
  },
  {
   "cell_type": "markdown",
   "metadata": {},
   "source": [
    "### np.zeros, np.ones, np.eye"
   ]
  },
  {
   "cell_type": "code",
   "execution_count": 10,
   "metadata": {
    "ExecuteTime": {
     "end_time": "2022-02-21T09:12:47.282287Z",
     "start_time": "2022-02-21T09:12:47.279061Z"
    }
   },
   "outputs": [
    {
     "name": "stdout",
     "output_type": "stream",
     "text": [
      "[[0. 0. 0.]\n",
      " [0. 0. 0.]\n",
      " [0. 0. 0.]\n",
      " [0. 0. 0.]\n",
      " [0. 0. 0.]]\n",
      "\n",
      "[[1. 1. 1. 1. 1.]\n",
      " [1. 1. 1. 1. 1.]\n",
      " [1. 1. 1. 1. 1.]]\n",
      "\n",
      "[[1. 0. 0. 0. 0.]\n",
      " [0. 1. 0. 0. 0.]\n",
      " [0. 0. 1. 0. 0.]\n",
      " [0. 0. 0. 1. 0.]\n",
      " [0. 0. 0. 0. 1.]]\n"
     ]
    }
   ],
   "source": [
    "mat2 = np.zeros([5,3])\n",
    "print(mat2)\n",
    "mat3 = np.ones((3,5))\n",
    "print('')\n",
    "print(mat3)\n",
    "mat4 = np.eye(5)\n",
    "print('')\n",
    "print(mat4)"
   ]
  },
  {
   "cell_type": "markdown",
   "metadata": {},
   "source": [
    "## +-*/ on arrays"
   ]
  },
  {
   "cell_type": "code",
   "execution_count": 11,
   "metadata": {
    "ExecuteTime": {
     "end_time": "2022-02-21T09:12:47.287385Z",
     "start_time": "2022-02-21T09:12:47.283309Z"
    }
   },
   "outputs": [
    {
     "name": "stdout",
     "output_type": "stream",
     "text": [
      "[1 2 3 4 5]\n",
      "[3 4 5 6 7]\n",
      " \n",
      "Addition\n",
      "[ 4  6  8 10 12]\n",
      " \n",
      "Multiplication\n",
      "[ 3  8 15 24 35]\n",
      " \n",
      "Division\n",
      "[1.         0.5        0.33333333 0.25       0.2       ]\n",
      "[1.73205081 2.         2.23606798 2.44948974 2.64575131]\n"
     ]
    }
   ],
   "source": [
    "# we can +-*/ arrays together if they're the right size\n",
    "vec5 = np.arange(1,6)\n",
    "vec6 = np.arange(3,8)\n",
    "print(vec5)\n",
    "print(vec6)\n",
    "print(' ')\n",
    "\n",
    "print ('Addition')\n",
    "print(vec5+vec6)\n",
    "print(' ')\n",
    "\n",
    "print ('Multiplication')\n",
    "\n",
    "print(vec5*vec6)\n",
    "print(' ')\n",
    "\n",
    "print ('Division')\n",
    "\n",
    "print(1/vec5)\n",
    "print(np.sqrt(vec6))"
   ]
  },
  {
   "cell_type": "markdown",
   "metadata": {},
   "source": [
    "## Matrix multiplication"
   ]
  },
  {
   "cell_type": "code",
   "execution_count": 12,
   "metadata": {
    "ExecuteTime": {
     "end_time": "2022-02-21T09:12:47.291202Z",
     "start_time": "2022-02-21T09:12:47.288342Z"
    }
   },
   "outputs": [
    {
     "name": "stdout",
     "output_type": "stream",
     "text": [
      "mat\n",
      "[[1 2 1]\n",
      " [4 5 9]\n",
      " [1 8 9]]\n",
      "\n",
      "vec\n",
      "[1 2 3]\n",
      "\n",
      "product (mat*vec)\n",
      "[ 8 41 44]\n"
     ]
    }
   ],
   "source": [
    "# we can do matrix multiplication\n",
    "print('mat')\n",
    "print(mat)\n",
    "print('')\n",
    "\n",
    "print('vec')\n",
    "print(vec)\n",
    "print()\n",
    "\n",
    "\n",
    "product = np.matmul(mat,vec)\n",
    "print('product (mat*vec)')\n",
    "print(product)"
   ]
  },
  {
   "cell_type": "code",
   "execution_count": 13,
   "metadata": {
    "ExecuteTime": {
     "end_time": "2022-02-21T09:12:47.295042Z",
     "start_time": "2022-02-21T09:12:47.292013Z"
    }
   },
   "outputs": [
    {
     "name": "stdout",
     "output_type": "stream",
     "text": [
      "[1. 2. 3.]\n",
      "\n",
      "[[ 0.5         0.18518519 -0.24074074]\n",
      " [ 0.5        -0.14814815  0.09259259]\n",
      " [-0.5         0.11111111  0.05555556]]\n"
     ]
    }
   ],
   "source": [
    "print(np.linalg.solve(mat,product))\n",
    "print('')\n",
    "print(np.linalg.inv(mat))"
   ]
  },
  {
   "cell_type": "markdown",
   "metadata": {},
   "source": [
    "## Find unique values in an array"
   ]
  },
  {
   "cell_type": "code",
   "execution_count": 14,
   "metadata": {
    "ExecuteTime": {
     "end_time": "2022-02-21T09:12:47.299019Z",
     "start_time": "2022-02-21T09:12:47.296249Z"
    }
   },
   "outputs": [
    {
     "name": "stdout",
     "output_type": "stream",
     "text": [
      "['blue' 'red' 'orange' 'purple' 'purple' 'orange' 'Red' '6']\n",
      "['6' 'Red' 'blue' 'orange' 'purple' 'red']\n"
     ]
    }
   ],
   "source": [
    "# we can find the unique values in an array\n",
    "vec7 = np.array(['blue','red','orange','purple','purple','orange','Red',6])\n",
    "print(vec7)\n",
    "print(np.unique(vec7))"
   ]
  },
  {
   "cell_type": "markdown",
   "metadata": {},
   "source": [
    "## Generate samples of a random variable"
   ]
  },
  {
   "cell_type": "code",
   "execution_count": 15,
   "metadata": {
    "ExecuteTime": {
     "end_time": "2022-02-21T09:12:47.304260Z",
     "start_time": "2022-02-21T09:12:47.299924Z"
    }
   },
   "outputs": [
    {
     "name": "stdout",
     "output_type": "stream",
     "text": [
      "[[0.71543406 0.16674447 0.02360554 0.69660754 0.15216018]\n",
      " [0.13360037 0.22774147 0.30539079 0.20774695 0.40512964]\n",
      " [0.28460674 0.1394715  0.4758919  0.07900209 0.54326381]\n",
      " [0.35595025 0.89494494 0.71367444 0.21282077 0.06905222]\n",
      " [0.75726122 0.44706078 0.807643   0.87830987 0.6275642 ]]\n",
      "\n",
      "[[ 0.37934123  0.12894339 -0.33425288  0.65028019  2.01744578]\n",
      " [-0.98265376  0.61628594  1.25056394  0.80205873  1.325099  ]\n",
      " [-1.94713042 -0.21078095 -1.75346061  0.72153832  1.89264425]\n",
      " [-0.00998484  1.1194292   1.84081319  0.06616938  0.43476539]\n",
      " [ 0.72932567 -0.7303393  -1.47340423  0.19335595  1.21171377]\n",
      " [-0.94171147  1.54506869 -1.83479737  1.42781715  0.57566792]\n",
      " [ 0.10988111  1.05649339  1.9966051  -0.23952521  0.46960777]\n",
      " [-1.02290919  0.73398568 -0.14490921 -0.03206864  0.98044942]\n",
      " [-0.57630228 -0.76386456  1.03240174  0.33000724  1.28257994]\n",
      " [ 0.20444488  0.13857274 -0.14687774  1.43156974 -0.70357557]]\n"
     ]
    }
   ],
   "source": [
    "# we can also use numpy to generate samples of a random variable\n",
    "rand_mat = np.random.rand(5,5) # uniform random variable\n",
    "print(rand_mat)\n",
    "rand_mat2 = np.random.randn(10,5) # standard normal random variable\n",
    "print('')\n",
    "print(rand_mat2)"
   ]
  },
  {
   "cell_type": "markdown",
   "metadata": {},
   "source": [
    "## Using numpy for statistical tools on array"
   ]
  },
  {
   "cell_type": "code",
   "execution_count": 16,
   "metadata": {
    "ExecuteTime": {
     "end_time": "2022-02-21T09:12:47.307488Z",
     "start_time": "2022-02-21T09:12:47.305161Z"
    }
   },
   "outputs": [
    {
     "name": "stdout",
     "output_type": "stream",
     "text": [
      "0.41282715008304655\n",
      "0.9958867780392832\n"
     ]
    }
   ],
   "source": [
    "# we can also use numpy for statistical tools on arrays\n",
    "print(np.mean(rand_mat))\n",
    "print(np.std(rand_mat2))"
   ]
  },
  {
   "cell_type": "code",
   "execution_count": 17,
   "metadata": {
    "ExecuteTime": {
     "end_time": "2022-02-21T09:12:47.311061Z",
     "start_time": "2022-02-21T09:12:47.308337Z"
    }
   },
   "outputs": [
    {
     "name": "stdout",
     "output_type": "stream",
     "text": [
      "0.023605535336314376\n",
      "2.0174457829608112\n"
     ]
    }
   ],
   "source": [
    "print(np.min(rand_mat))\n",
    "print(np.max(rand_mat2))"
   ]
  },
  {
   "cell_type": "markdown",
   "metadata": {},
   "source": [
    "## Accessing numpy entires"
   ]
  },
  {
   "cell_type": "markdown",
   "metadata": {},
   "source": [
    "### Access single entry"
   ]
  },
  {
   "cell_type": "code",
   "execution_count": 18,
   "metadata": {
    "ExecuteTime": {
     "end_time": "2022-02-21T09:12:47.314260Z",
     "start_time": "2022-02-21T09:12:47.312074Z"
    }
   },
   "outputs": [
    {
     "name": "stdout",
     "output_type": "stream",
     "text": [
      "[-0.26744279 -0.62032595 -1.40305233  0.62468644 -0.09198731 -0.16528161\n",
      " -1.32662823  0.87982848 -0.27032412  0.76885358  0.77723231  0.95454637\n",
      "  0.37161604  1.56660033 -1.59591573  0.17264548  0.47944227  0.39430562\n",
      " -0.02687859]\n",
      "-1.3266282303120012\n"
     ]
    }
   ],
   "source": [
    "# how do we access entries in a numpy vector\n",
    "rand_vec = np.random.randn(19)\n",
    "print(rand_vec)\n",
    "print(rand_vec[6])"
   ]
  },
  {
   "cell_type": "markdown",
   "metadata": {},
   "source": [
    "### Access multiple entries"
   ]
  },
  {
   "cell_type": "code",
   "execution_count": 19,
   "metadata": {
    "ExecuteTime": {
     "end_time": "2022-02-21T09:12:47.317142Z",
     "start_time": "2022-02-21T09:12:47.315284Z"
    }
   },
   "outputs": [
    {
     "name": "stdout",
     "output_type": "stream",
     "text": [
      "[-0.09198731 -0.16528161 -1.32662823  0.87982848 -0.27032412]\n"
     ]
    }
   ],
   "source": [
    "# we can access multiple entries at once using :\n",
    "print(rand_vec[4:9])"
   ]
  },
  {
   "cell_type": "markdown",
   "metadata": {},
   "source": [
    "### Access multiple nonconsecutive entries"
   ]
  },
  {
   "cell_type": "code",
   "execution_count": 20,
   "metadata": {
    "ExecuteTime": {
     "end_time": "2022-02-21T09:12:47.320163Z",
     "start_time": "2022-02-21T09:12:47.318018Z"
    }
   },
   "outputs": [
    {
     "name": "stdout",
     "output_type": "stream",
     "text": [
      "[ 0  3  6  9 12]\n",
      "[-0.26744279  0.62468644 -1.32662823  0.76885358  0.37161604]\n"
     ]
    }
   ],
   "source": [
    "# we can also access multiple non-consecutive entries using np.arange\n",
    "print(np.arange(0,15,3))\n",
    "print(rand_vec[np.arange(0,15,3)])"
   ]
  },
  {
   "cell_type": "markdown",
   "metadata": {},
   "source": [
    "### Accessing matrices"
   ]
  },
  {
   "cell_type": "code",
   "execution_count": 21,
   "metadata": {
    "ExecuteTime": {
     "end_time": "2022-02-21T09:12:47.323409Z",
     "start_time": "2022-02-21T09:12:47.321083Z"
    }
   },
   "outputs": [
    {
     "name": "stdout",
     "output_type": "stream",
     "text": [
      "[[0.71543406 0.16674447 0.02360554 0.69660754 0.15216018]\n",
      " [0.13360037 0.22774147 0.30539079 0.20774695 0.40512964]\n",
      " [0.28460674 0.1394715  0.4758919  0.07900209 0.54326381]\n",
      " [0.35595025 0.89494494 0.71367444 0.21282077 0.06905222]\n",
      " [0.75726122 0.44706078 0.807643   0.87830987 0.6275642 ]]\n",
      "\n",
      "0.305390790137259\n",
      "\n",
      "0.305390790137259\n"
     ]
    }
   ],
   "source": [
    "# what about matrices\n",
    "print(rand_mat)\n",
    "print()\n",
    "print(rand_mat[1][2])\n",
    "print()\n",
    "print(rand_mat[1,2])\n"
   ]
  },
  {
   "cell_type": "code",
   "execution_count": 22,
   "metadata": {
    "ExecuteTime": {
     "end_time": "2022-02-21T09:12:47.331746Z",
     "start_time": "2022-02-21T09:12:47.328226Z"
    }
   },
   "outputs": [
    {
     "name": "stdout",
     "output_type": "stream",
     "text": [
      "[[0.16674447 0.02360554]\n",
      " [0.22774147 0.30539079]]\n"
     ]
    }
   ],
   "source": [
    "print(rand_mat[0:2,1:3])"
   ]
  },
  {
   "cell_type": "markdown",
   "metadata": {},
   "source": [
    "### Changing values in an array"
   ]
  },
  {
   "cell_type": "code",
   "execution_count": 23,
   "metadata": {
    "ExecuteTime": {
     "end_time": "2022-02-21T09:12:47.336101Z",
     "start_time": "2022-02-21T09:12:47.333244Z"
    }
   },
   "outputs": [
    {
     "name": "stdout",
     "output_type": "stream",
     "text": [
      "[-0.26744279 -0.62032595 -1.40305233  0.62468644 -0.09198731 -0.16528161\n",
      " -1.32662823  0.87982848 -0.27032412  0.76885358  0.77723231  0.95454637\n",
      "  0.37161604  1.56660033 -1.59591573  0.17264548  0.47944227  0.39430562\n",
      " -0.02687859]\n",
      "\n",
      "[-0.26744279 -0.62032595 -1.40305233  4.          4.         -0.16528161\n",
      " -1.32662823  0.87982848 -0.27032412  0.76885358  0.77723231  0.95454637\n",
      "  0.37161604  1.56660033 -1.59591573  0.17264548  0.47944227  0.39430562\n",
      " -0.02687859]\n",
      "\n",
      "[-0.26744279 -0.62032595 -1.40305233  1.          2.         -0.16528161\n",
      " -1.32662823  0.87982848 -0.27032412  0.76885358  0.77723231  0.95454637\n",
      "  0.37161604  1.56660033 -1.59591573  0.17264548  0.47944227  0.39430562\n",
      " -0.02687859]\n"
     ]
    }
   ],
   "source": [
    "# let's change some values in an array!\n",
    "print(rand_vec)\n",
    "rand_vec[3:5] = 4\n",
    "print('')\n",
    "print(rand_vec)\n",
    "rand_vec[3:5] = [1,2]\n",
    "print('')\n",
    "print(rand_vec)"
   ]
  },
  {
   "cell_type": "code",
   "execution_count": 24,
   "metadata": {
    "ExecuteTime": {
     "end_time": "2022-02-21T09:12:47.340794Z",
     "start_time": "2022-02-21T09:12:47.337082Z"
    }
   },
   "outputs": [
    {
     "name": "stdout",
     "output_type": "stream",
     "text": [
      "[[0.71543406 0.16674447 0.02360554 0.69660754 0.15216018]\n",
      " [0.13360037 0.22774147 0.30539079 0.20774695 0.40512964]\n",
      " [0.28460674 0.1394715  0.4758919  0.07900209 0.54326381]\n",
      " [0.35595025 0.89494494 0.71367444 0.21282077 0.06905222]\n",
      " [0.75726122 0.44706078 0.807643   0.87830987 0.6275642 ]]\n",
      "\n",
      "[[0.71543406 0.16674447 0.02360554 0.69660754 0.15216018]\n",
      " [0.13360037 0.22774147 0.30539079 0.         0.        ]\n",
      " [0.28460674 0.1394715  0.4758919  0.         0.        ]\n",
      " [0.35595025 0.89494494 0.71367444 0.21282077 0.06905222]\n",
      " [0.75726122 0.44706078 0.807643   0.87830987 0.6275642 ]]\n"
     ]
    }
   ],
   "source": [
    "print(rand_mat)\n",
    "rand_mat[1:3,3:5] = 0\n",
    "print('')\n",
    "print(rand_mat)"
   ]
  },
  {
   "cell_type": "code",
   "execution_count": 25,
   "metadata": {
    "ExecuteTime": {
     "end_time": "2022-02-21T09:12:47.345252Z",
     "start_time": "2022-02-21T09:12:47.342300Z"
    }
   },
   "outputs": [
    {
     "name": "stdout",
     "output_type": "stream",
     "text": [
      "[[0.71543406 0.16674447 0.02360554]\n",
      " [0.13360037 0.22774147 0.30539079]]\n",
      "[[3. 3. 3.]\n",
      " [3. 3. 3.]]\n"
     ]
    }
   ],
   "source": [
    "sub_mat = rand_mat[0:2,0:3]\n",
    "print(sub_mat)\n",
    "sub_mat[:] = 3\n",
    "print(sub_mat)\n"
   ]
  },
  {
   "cell_type": "code",
   "execution_count": 26,
   "metadata": {
    "ExecuteTime": {
     "end_time": "2022-02-21T09:12:47.348309Z",
     "start_time": "2022-02-21T09:12:47.346269Z"
    }
   },
   "outputs": [
    {
     "name": "stdout",
     "output_type": "stream",
     "text": [
      "[[3.         3.         3.         0.69660754 0.15216018]\n",
      " [3.         3.         3.         0.         0.        ]\n",
      " [0.28460674 0.1394715  0.4758919  0.         0.        ]\n",
      " [0.35595025 0.89494494 0.71367444 0.21282077 0.06905222]\n",
      " [0.75726122 0.44706078 0.807643   0.87830987 0.6275642 ]]\n"
     ]
    }
   ],
   "source": [
    "print(rand_mat)"
   ]
  },
  {
   "cell_type": "code",
   "execution_count": 27,
   "metadata": {
    "ExecuteTime": {
     "end_time": "2022-02-21T09:12:47.351662Z",
     "start_time": "2022-02-21T09:12:47.349238Z"
    }
   },
   "outputs": [
    {
     "name": "stdout",
     "output_type": "stream",
     "text": [
      "[[99. 99. 99.]\n",
      " [99. 99. 99.]]\n",
      "[[3.         3.         3.         0.69660754 0.15216018]\n",
      " [3.         3.         3.         0.         0.        ]\n",
      " [0.28460674 0.1394715  0.4758919  0.         0.        ]\n",
      " [0.35595025 0.89494494 0.71367444 0.21282077 0.06905222]\n",
      " [0.75726122 0.44706078 0.807643   0.87830987 0.6275642 ]]\n"
     ]
    }
   ],
   "source": [
    "sub_mat2 = rand_mat[0:2,0:3].copy()\n",
    "sub_mat2[:] = 99\n",
    "print(sub_mat2)\n",
    "print(rand_mat)\n"
   ]
  },
  {
   "cell_type": "markdown",
   "metadata": {},
   "source": [
    "### Access entries with logicals"
   ]
  },
  {
   "cell_type": "code",
   "execution_count": 28,
   "metadata": {
    "ExecuteTime": {
     "end_time": "2022-02-21T09:12:47.355156Z",
     "start_time": "2022-02-21T09:12:47.352584Z"
    }
   },
   "outputs": [
    {
     "name": "stdout",
     "output_type": "stream",
     "text": [
      "[ 1.45541224  0.62134569  0.1106063  -0.59164665 -1.35605894 -0.23894976\n",
      "  0.42311436  0.73616762 -1.15260085  1.38530895  1.55357256  0.03365846\n",
      "  2.16821589  0.00517405 -0.62212339]\n",
      "[ True  True  True False False False  True  True False  True  True  True\n",
      "  True  True False]\n",
      "[1.45541224 0.62134569 0.1106063  0.42311436 0.73616762 1.38530895\n",
      " 1.55357256 0.03365846 2.16821589 0.00517405]\n"
     ]
    }
   ],
   "source": [
    "# we can also access entries with logicals\n",
    "rand_vec = np.random.randn(15)\n",
    "\n",
    "print(rand_vec)\n",
    "print(rand_vec>0)\n",
    "print(rand_vec[rand_vec>0])"
   ]
  },
  {
   "cell_type": "code",
   "execution_count": 29,
   "metadata": {
    "ExecuteTime": {
     "end_time": "2022-02-21T09:12:47.359138Z",
     "start_time": "2022-02-21T09:12:47.356128Z"
    }
   },
   "outputs": [
    {
     "name": "stdout",
     "output_type": "stream",
     "text": [
      "[[ 0.37934123  0.12894339 -0.33425288  0.65028019  2.01744578]\n",
      " [-0.98265376  0.61628594  1.25056394  0.80205873  1.325099  ]\n",
      " [-1.94713042 -0.21078095 -1.75346061  0.72153832  1.89264425]\n",
      " [-0.00998484  1.1194292   1.84081319  0.06616938  0.43476539]\n",
      " [ 0.72932567 -0.7303393  -1.47340423  0.19335595  1.21171377]\n",
      " [-0.94171147  1.54506869 -1.83479737  1.42781715  0.57566792]\n",
      " [ 0.10988111  1.05649339  1.9966051  -0.23952521  0.46960777]\n",
      " [-1.02290919  0.73398568 -0.14490921 -0.03206864  0.98044942]\n",
      " [-0.57630228 -0.76386456  1.03240174  0.33000724  1.28257994]\n",
      " [ 0.20444488  0.13857274 -0.14687774  1.43156974 -0.70357557]]\n",
      "[0.37934123 0.12894339 0.65028019 2.01744578 0.61628594 1.25056394\n",
      " 0.80205873 1.325099   0.72153832 1.89264425 1.1194292  1.84081319\n",
      " 0.06616938 0.43476539 0.72932567 0.19335595 1.21171377 1.54506869\n",
      " 1.42781715 0.57566792 0.10988111 1.05649339 1.9966051  0.46960777\n",
      " 0.73398568 0.98044942 1.03240174 0.33000724 1.28257994 0.20444488\n",
      " 0.13857274 1.43156974]\n"
     ]
    }
   ],
   "source": [
    "print(rand_mat2)\n",
    "print(rand_mat2[rand_mat2>0])"
   ]
  },
  {
   "cell_type": "code",
   "execution_count": 30,
   "metadata": {
    "ExecuteTime": {
     "end_time": "2022-02-21T09:12:47.364091Z",
     "start_time": "2022-02-21T09:12:47.361576Z"
    }
   },
   "outputs": [
    {
     "name": "stdout",
     "output_type": "stream",
     "text": [
      "[ 1.45541224  0.62134569  0.1106063  -0.59164665 -1.35605894 -0.23894976\n",
      "  0.42311436  0.73616762 -1.15260085  1.38530895  1.55357256  0.03365846\n",
      "  2.16821589  0.00517405 -0.62212339]\n",
      "\n",
      "[-5.         -5.          0.1106063  -0.59164665 -1.35605894 -0.23894976\n",
      "  0.42311436 -5.         -1.15260085 -5.         -5.          0.03365846\n",
      " -5.          0.00517405 -0.62212339]\n"
     ]
    }
   ],
   "source": [
    "print(rand_vec)\n",
    "print('')\n",
    "rand_vec[rand_vec>0.5] = -5\n",
    "print(rand_vec)"
   ]
  },
  {
   "cell_type": "markdown",
   "metadata": {},
   "source": [
    "## Saving and loading numpy arrays"
   ]
  },
  {
   "cell_type": "code",
   "execution_count": 31,
   "metadata": {
    "ExecuteTime": {
     "end_time": "2022-02-21T09:12:47.367312Z",
     "start_time": "2022-02-21T09:12:47.365061Z"
    }
   },
   "outputs": [],
   "source": [
    "# let's save some arrays on the disk for use later!\n",
    "np.save('saved_file_name',rand_mat2)\n"
   ]
  },
  {
   "cell_type": "code",
   "execution_count": 32,
   "metadata": {
    "ExecuteTime": {
     "end_time": "2022-02-21T09:12:47.372514Z",
     "start_time": "2022-02-21T09:12:47.368186Z"
    }
   },
   "outputs": [],
   "source": [
    "np.savez('zipped_file_name',rand_mat=rand_mat,rand_mat2=rand_mat2)"
   ]
  },
  {
   "cell_type": "code",
   "execution_count": 33,
   "metadata": {
    "ExecuteTime": {
     "end_time": "2022-02-21T09:12:47.379679Z",
     "start_time": "2022-02-21T09:12:47.373443Z"
    }
   },
   "outputs": [
    {
     "name": "stdout",
     "output_type": "stream",
     "text": [
      "[[ 0.37934123  0.12894339 -0.33425288  0.65028019  2.01744578]\n",
      " [-0.98265376  0.61628594  1.25056394  0.80205873  1.325099  ]\n",
      " [-1.94713042 -0.21078095 -1.75346061  0.72153832  1.89264425]\n",
      " [-0.00998484  1.1194292   1.84081319  0.06616938  0.43476539]\n",
      " [ 0.72932567 -0.7303393  -1.47340423  0.19335595  1.21171377]\n",
      " [-0.94171147  1.54506869 -1.83479737  1.42781715  0.57566792]\n",
      " [ 0.10988111  1.05649339  1.9966051  -0.23952521  0.46960777]\n",
      " [-1.02290919  0.73398568 -0.14490921 -0.03206864  0.98044942]\n",
      " [-0.57630228 -0.76386456  1.03240174  0.33000724  1.28257994]\n",
      " [ 0.20444488  0.13857274 -0.14687774  1.43156974 -0.70357557]]\n",
      "\n",
      "<numpy.lib.npyio.NpzFile object at 0x7f8fa022e3a0>\n"
     ]
    }
   ],
   "source": [
    "# now let's load it\n",
    "loaded_vec = np.load('saved_file_name.npy')\n",
    "loaded_zip = np.load('zipped_file_name.npz')\n",
    "\n",
    "print(loaded_vec)\n",
    "print('')\n",
    "print(loaded_zip)"
   ]
  },
  {
   "cell_type": "code",
   "execution_count": 34,
   "metadata": {
    "ExecuteTime": {
     "end_time": "2022-02-21T09:12:47.384692Z",
     "start_time": "2022-02-21T09:12:47.380681Z"
    }
   },
   "outputs": [
    {
     "name": "stdout",
     "output_type": "stream",
     "text": [
      "[[3.         3.         3.         0.69660754 0.15216018]\n",
      " [3.         3.         3.         0.         0.        ]\n",
      " [0.28460674 0.1394715  0.4758919  0.         0.        ]\n",
      " [0.35595025 0.89494494 0.71367444 0.21282077 0.06905222]\n",
      " [0.75726122 0.44706078 0.807643   0.87830987 0.6275642 ]]\n",
      "\n",
      "[[ 0.37934123  0.12894339 -0.33425288  0.65028019  2.01744578]\n",
      " [-0.98265376  0.61628594  1.25056394  0.80205873  1.325099  ]\n",
      " [-1.94713042 -0.21078095 -1.75346061  0.72153832  1.89264425]\n",
      " [-0.00998484  1.1194292   1.84081319  0.06616938  0.43476539]\n",
      " [ 0.72932567 -0.7303393  -1.47340423  0.19335595  1.21171377]\n",
      " [-0.94171147  1.54506869 -1.83479737  1.42781715  0.57566792]\n",
      " [ 0.10988111  1.05649339  1.9966051  -0.23952521  0.46960777]\n",
      " [-1.02290919  0.73398568 -0.14490921 -0.03206864  0.98044942]\n",
      " [-0.57630228 -0.76386456  1.03240174  0.33000724  1.28257994]\n",
      " [ 0.20444488  0.13857274 -0.14687774  1.43156974 -0.70357557]]\n",
      "[[3.         3.         3.         0.69660754 0.15216018]\n",
      " [3.         3.         3.         0.         0.        ]\n",
      " [0.28460674 0.1394715  0.4758919  0.         0.        ]\n",
      " [0.35595025 0.89494494 0.71367444 0.21282077 0.06905222]\n",
      " [0.75726122 0.44706078 0.807643   0.87830987 0.6275642 ]]\n"
     ]
    }
   ],
   "source": [
    "print(loaded_zip['rand_mat'])\n",
    "print('')\n",
    "print(loaded_zip['rand_mat2'])\n",
    "\n",
    "new_array  = loaded_zip['rand_mat']\n",
    "print(new_array)"
   ]
  },
  {
   "cell_type": "code",
   "execution_count": 35,
   "metadata": {
    "ExecuteTime": {
     "end_time": "2022-02-21T09:12:47.390177Z",
     "start_time": "2022-02-21T09:12:47.385672Z"
    }
   },
   "outputs": [
    {
     "name": "stdout",
     "output_type": "stream",
     "text": [
      "[[3.         3.         3.         0.69660754 0.15216018]\n",
      " [3.         3.         3.         0.         0.        ]\n",
      " [0.28460674 0.1394715  0.4758919  0.         0.        ]\n",
      " [0.35595025 0.89494494 0.71367444 0.21282077 0.06905222]\n",
      " [0.75726122 0.44706078 0.807643   0.87830987 0.6275642 ]]\n",
      "\n",
      "[[3.         3.         3.         0.69660754 0.15216018]\n",
      " [3.         3.         3.         0.         0.        ]\n",
      " [0.28460674 0.1394715  0.4758919  0.         0.        ]\n",
      " [0.35595025 0.89494494 0.71367444 0.21282077 0.06905222]\n",
      " [0.75726122 0.44706078 0.807643   0.87830987 0.6275642 ]]\n"
     ]
    }
   ],
   "source": [
    "# we can also save/load as text files...but only single variables\n",
    "np.savetxt('text_file_name.txt',rand_mat,delimiter=',')\n",
    "rand_mat_txt = np.loadtxt('text_file_name.txt',delimiter=',')\n",
    "print(rand_mat)\n",
    "print('')\n",
    "print(rand_mat_txt)"
   ]
  }
 ],
 "metadata": {
  "hide_input": false,
  "kernelspec": {
   "display_name": "Python 3",
   "language": "python",
   "name": "python3"
  },
  "language_info": {
   "codemirror_mode": {
    "name": "ipython",
    "version": 3
   },
   "file_extension": ".py",
   "mimetype": "text/x-python",
   "name": "python",
   "nbconvert_exporter": "python",
   "pygments_lexer": "ipython3",
   "version": "3.8.8"
  },
  "toc": {
   "base_numbering": 1,
   "nav_menu": {},
   "number_sections": true,
   "sideBar": true,
   "skip_h1_title": false,
   "title_cell": "Table of Contents",
   "title_sidebar": "Contents",
   "toc_cell": false,
   "toc_position": {},
   "toc_section_display": true,
   "toc_window_display": true
  }
 },
 "nbformat": 4,
 "nbformat_minor": 2
}
